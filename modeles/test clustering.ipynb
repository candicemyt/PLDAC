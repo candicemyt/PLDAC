{
 "cells": [
  {
   "cell_type": "code",
   "execution_count": 67,
   "metadata": {
    "collapsed": true
   },
   "outputs": [],
   "source": [
    "from sklearn.cluster import SpectralClustering\n",
    "import importlib\n",
    "import loaddata\n",
    "importlib.reload(loaddata)\n",
    "from loaddata import load_data\n",
    "import importlib\n",
    "import data_vis\n",
    "importlib.reload(data_vis)\n",
    "from data_vis import interaction_mat\n",
    "import numpy as np\n"
   ]
  },
  {
   "cell_type": "code",
   "execution_count": 68,
   "outputs": [],
   "source": [
    "####DATASET 1####\n",
    "data = load_data('dataset1')\n",
    "d1 = data[8]\n",
    "mat1 = interaction_mat(100, 10, d1)"
   ],
   "metadata": {
    "collapsed": false,
    "pycharm": {
     "name": "#%%\n"
    }
   }
  },
  {
   "cell_type": "code",
   "execution_count": 69,
   "outputs": [
    {
     "name": "stdout",
     "output_type": "stream",
     "text": [
      "[0 0 1 1 3 2 2 3 2 3]\n"
     ]
    }
   ],
   "source": [
    "#clustering\n",
    "clustering = SpectralClustering(n_clusters=4,assign_labels='discretize',affinity='precomputed')\n",
    "yhat = clustering.fit_predict(mat1)\n",
    "print(yhat)\n"
   ],
   "metadata": {
    "collapsed": false,
    "pycharm": {
     "name": "#%%\n"
    }
   }
  },
  {
   "cell_type": "code",
   "execution_count": 92,
   "outputs": [],
   "source": [
    "####DATASET 2####\n",
    "metadata, data = load_data('dataset2')\n",
    "col1 = metadata[metadata['colony_act'] == 4]\n",
    "\n",
    "d1 = data[0]\n",
    "ants = d1.columns[1::]\n",
    "mat = np.delete(d1.to_numpy(), 0, axis=1)\n",
    "\n",
    "groups = {0 : set(), 1 : set(), 2: set()}\n",
    "for a in (col1[col1['group_period1']=='F'])['Ant_ID']:\n",
    "    if a in ants:\n",
    "        groups[0].add(a)\n",
    "for a in (col1[col1['group_period1']=='C'])['Ant_ID']:\n",
    "    if a in ants:\n",
    "        groups[1].add(a)\n",
    "for a in (col1[col1['group_period1']=='N'])['Ant_ID']:\n",
    "    if a in ants:\n",
    "        groups[2].add(a)\n",
    "\n"
   ],
   "metadata": {
    "collapsed": false,
    "pycharm": {
     "name": "#%%\n"
    }
   }
  },
  {
   "cell_type": "code",
   "execution_count": 93,
   "outputs": [
    {
     "name": "stdout",
     "output_type": "stream",
     "text": [
      "[0 1 0 2 1 1 0 1 0 1 1 0 0 2 2 1 1 2 0 0 0 0 0 0 1 1 2 1 0 0 2 0 0 1 2 1 0\n",
      " 1 0 1 1 2 0 0 2]\n"
     ]
    }
   ],
   "source": [
    "#clustering\n",
    "clustering = SpectralClustering(n_clusters=3,assign_labels='discretize',affinity='precomputed')\n",
    "yhat = clustering.fit_predict(mat)\n",
    "print(yhat)\n",
    "pred_groups = {0 : set(), 1 : set(), 2: set()}\n",
    "for i in range(len(yhat)):\n",
    "    pred_groups[yhat[i]].add(ants[i])"
   ],
   "metadata": {
    "collapsed": false,
    "pycharm": {
     "name": "#%%\n"
    }
   }
  },
  {
   "cell_type": "code",
   "execution_count": 94,
   "outputs": [
    {
     "name": "stdout",
     "output_type": "stream",
     "text": [
      "Groupes prédits\n",
      "20\n",
      "16\n",
      "9\n",
      "Groupes réels\n",
      "12\n",
      "16\n",
      "17\n"
     ]
    }
   ],
   "source": [
    "#resultats\n",
    "print('Groupes prédits')\n",
    "for pg in pred_groups.values():\n",
    "    print(len(pg))\n",
    "print('Groupes réels')\n",
    "for g in groups.values():\n",
    "    print(len(g))\n",
    "\n",
    "\n"
   ],
   "metadata": {
    "collapsed": false,
    "pycharm": {
     "name": "#%%\n"
    }
   }
  },
  {
   "cell_type": "markdown",
   "source": [
    "TODO :\n",
    "    - fonction taux de similarité entre deux groupes pour évaluer le modèle\n",
    "    - additionner toutes les matrices de comptage du nombre d'intéractions d'une période\n",
    "    - regarder si on peut jouer avec les poids des classes dans le spectral clustering\n",
    "    - classifier avec une marche aléatoire dans les graphes\n",
    "    - regarder les modèles de l'article\n",
    "    - tenter des classif avec d'autres attributs de metadata"
   ],
   "metadata": {
    "collapsed": false
   }
  }
 ],
 "metadata": {
  "kernelspec": {
   "display_name": "Python 3",
   "language": "python",
   "name": "python3"
  },
  "language_info": {
   "codemirror_mode": {
    "name": "ipython",
    "version": 2
   },
   "file_extension": ".py",
   "mimetype": "text/x-python",
   "name": "python",
   "nbconvert_exporter": "python",
   "pygments_lexer": "ipython2",
   "version": "2.7.6"
  }
 },
 "nbformat": 4,
 "nbformat_minor": 0
}