{
 "cells": [
  {
   "cell_type": "code",
   "execution_count": 19,
   "metadata": {
    "collapsed": true
   },
   "outputs": [],
   "source": [
    "from sklearn.cluster import SpectralClustering\n",
    "import numpy as np\n",
    "import importlib\n",
    "import loaddata\n",
    "importlib.reload(loaddata)\n",
    "from loaddata import load_data\n",
    "\n",
    "import data_vis\n",
    "importlib.reload(data_vis)\n",
    "from data_vis import interaction_mat\n",
    "\n",
    "import tools\n",
    "importlib.reload(tools)\n",
    "from tools import acc_score"
   ]
  },
  {
   "cell_type": "markdown",
   "source": [
    "DATASET 1\n"
   ],
   "metadata": {
    "collapsed": false,
    "pycharm": {
     "name": "#%% md\n"
    }
   }
  },
  {
   "cell_type": "code",
   "execution_count": 2,
   "outputs": [],
   "source": [
    "data = load_data('dataset1')\n",
    "d1 = data[8]\n",
    "mat1 = interaction_mat(100, 10, d1)"
   ],
   "metadata": {
    "collapsed": false,
    "pycharm": {
     "name": "#%%\n"
    }
   }
  },
  {
   "cell_type": "markdown",
   "source": [
    "    Spectral clustering"
   ],
   "metadata": {
    "collapsed": false,
    "pycharm": {
     "name": "#%% md\n"
    }
   }
  },
  {
   "cell_type": "code",
   "execution_count": 3,
   "outputs": [
    {
     "name": "stdout",
     "output_type": "stream",
     "text": [
      "[1 1 3 3 0 2 2 0 2 0]\n"
     ]
    }
   ],
   "source": [
    "clustering = SpectralClustering(n_clusters=4,assign_labels='discretize',affinity='precomputed')\n",
    "yhat = clustering.fit_predict(mat1)\n",
    "print(yhat)"
   ],
   "metadata": {
    "collapsed": false,
    "pycharm": {
     "name": "#%%\n"
    }
   }
  },
  {
   "cell_type": "markdown",
   "source": [
    "DATASET 2"
   ],
   "metadata": {
    "collapsed": false,
    "pycharm": {
     "name": "#%% md\n"
    }
   }
  },
  {
   "cell_type": "code",
   "execution_count": 32,
   "outputs": [],
   "source": [
    "metadata, data = load_data('dataset2')\n",
    "col1 = metadata[metadata['colony_act'] == 4]\n",
    "\n",
    "d1 = data[0]\n",
    "ants = d1.columns[1::]\n",
    "mat = np.delete(d1.to_numpy(), 0, axis=1)\n",
    "\n",
    "y_dict = dict()\n",
    "for a in (col1[col1['group_period1']=='F'])['Ant_ID']:\n",
    "    if a in ants:\n",
    "        y_dict[a] = 0\n",
    "for a in (col1[col1['group_period1']=='C'])['Ant_ID']:\n",
    "    if a in ants:\n",
    "        y_dict[a] = 1\n",
    "for a in (col1[col1['group_period1']=='N'])['Ant_ID']:\n",
    "    if a in ants:\n",
    "        y_dict[a] = 2\n",
    "\n"
   ],
   "metadata": {
    "collapsed": false,
    "pycharm": {
     "name": "#%%\n"
    }
   }
  },
  {
   "cell_type": "markdown",
   "source": [
    "    Spectral clustering"
   ],
   "metadata": {
    "collapsed": false,
    "pycharm": {
     "name": "#%% md\n"
    }
   }
  },
  {
   "cell_type": "code",
   "execution_count": 33,
   "outputs": [],
   "source": [
    "clustering = SpectralClustering(n_clusters=3,assign_labels='discretize',affinity='precomputed')\n",
    "yhat = clustering.fit_predict(mat)\n",
    "yhat_dict = dict(zip(ants, yhat))\n"
   ],
   "metadata": {
    "collapsed": false,
    "pycharm": {
     "name": "#%%\n"
    }
   }
  },
  {
   "cell_type": "code",
   "execution_count": 34,
   "outputs": [
    {
     "name": "stdout",
     "output_type": "stream",
     "text": [
      "0.6666666666666666\n"
     ]
    }
   ],
   "source": [
    "#resultats\n",
    "y_dict = dict(sorted(y_dict.items(), key=lambda item: item[0]))\n",
    "yhat_dict = dict(sorted(yhat_dict.items(), key=lambda item: item[0]))\n",
    "score, yhat_mod = acc_score(list(y_dict.values()), list(yhat_dict.values()))\n",
    "print(score)\n"
   ],
   "metadata": {
    "collapsed": false,
    "pycharm": {
     "name": "#%%\n"
    }
   }
  },
  {
   "cell_type": "markdown",
   "source": [
    "TODO :\n",
    "    - ~~fonction taux de similarité entre deux groupes pour évaluer le modèle~~\n",
    "    - chaîne de markov avec changements de rôles (prédire le comportement d'une fourmi)\n",
    "    - classification supervisée (avec attributs de metadata + mat d'intéractions)\n",
    "    - additionner toutes les matrices de comptage du nombre d'intéractions d'une période\n",
    "    - regarder les modèles de l'article\n",
    "    - clusteriser avec une marche aléatoire dans les graphes\n",
    "    - regarder si on peut jouer avec les poids des classes dans le spectral clustering\n",
    "    - interaction entre groupes (agréger les graphes -> 3 ou 4 noeuds (reine ou pas ))"
   ],
   "metadata": {
    "collapsed": false,
    "pycharm": {
     "name": "#%% md\n"
    }
   }
  },
  {
   "cell_type": "code",
   "execution_count": null,
   "outputs": [],
   "source": [],
   "metadata": {
    "collapsed": false,
    "pycharm": {
     "name": "#%%\n"
    }
   }
  }
 ],
 "metadata": {
  "kernelspec": {
   "display_name": "Python 3",
   "language": "python",
   "name": "python3"
  },
  "language_info": {
   "codemirror_mode": {
    "name": "ipython",
    "version": 2
   },
   "file_extension": ".py",
   "mimetype": "text/x-python",
   "name": "python",
   "nbconvert_exporter": "python",
   "pygments_lexer": "ipython2",
   "version": "2.7.6"
  }
 },
 "nbformat": 4,
 "nbformat_minor": 0
}