{
 "cells": [
  {
   "cell_type": "code",
   "execution_count": 16,
   "metadata": {
    "collapsed": true
   },
   "outputs": [],
   "source": [
    "from sklearn.cluster import SpectralClustering\n",
    "from loaddata import load_data\n",
    "\n",
    "import importlib\n",
    "import data_vis\n",
    "importlib.reload(data_vis)\n",
    "from data_vis import interaction_mat"
   ]
  },
  {
   "cell_type": "code",
   "execution_count": 35,
   "outputs": [
    {
     "name": "stdout",
     "output_type": "stream",
     "text": [
      "[[ 0. 77.  1.  1.  1.  1.  1.  1.  1.  1.]\n",
      " [77.  0.  1.  2.  1.  1.  1.  1.  1.  1.]\n",
      " [ 1.  1.  0. 53. 25.  1.  1.  1.  1.  1.]\n",
      " [ 1.  2. 53.  0.  1.  1.  1.  1.  1.  1.]\n",
      " [ 1.  1. 25.  1.  0.  1.  1. 39.  1. 56.]\n",
      " [ 1.  1.  1.  1.  1.  0.  1.  1. 20.  1.]\n",
      " [ 1.  1.  1.  1.  1.  1.  0.  1.  1.  1.]\n",
      " [ 1.  1.  1.  1. 39.  1.  1.  0. 13. 76.]\n",
      " [ 1.  1.  1.  1.  1. 20.  1. 13.  0.  1.]\n",
      " [ 1.  1.  1.  1. 56.  1.  1. 76.  1.  0.]]\n"
     ]
    }
   ],
   "source": [
    "data = load_data()\n",
    "d1 = data[8]\n",
    "mat1 = interaction_mat(100, 10, d1)\n",
    "#g1 = mat2graph(mat1, 9)\n",
    "print(mat1)"
   ],
   "metadata": {
    "collapsed": false,
    "pycharm": {
     "name": "#%%\n"
    }
   }
  },
  {
   "cell_type": "code",
   "execution_count": 37,
   "outputs": [
    {
     "name": "stdout",
     "output_type": "stream",
     "text": [
      "[2 2 3 3 1 0 0 1 0 1]\n"
     ]
    }
   ],
   "source": [
    "clustering = SpectralClustering(n_clusters=4,assign_labels='discretize',affinity='precomputed')\n",
    "yhat = clustering.fit_predict(mat1)\n",
    "print(yhat)\n"
   ],
   "metadata": {
    "collapsed": false,
    "pycharm": {
     "name": "#%%\n"
    }
   }
  },
  {
   "cell_type": "code",
   "execution_count": 4,
   "outputs": [
    {
     "data": {
      "text/plain": "array([1, 1, 2, 0, 2, 0, 0, 0, 2, 2], dtype=int64)"
     },
     "execution_count": 4,
     "metadata": {},
     "output_type": "execute_result"
    }
   ],
   "source": [],
   "metadata": {
    "collapsed": false,
    "pycharm": {
     "name": "#%%\n"
    }
   }
  },
  {
   "cell_type": "code",
   "execution_count": null,
   "outputs": [],
   "source": [],
   "metadata": {
    "collapsed": false,
    "pycharm": {
     "name": "#%%\n"
    }
   }
  }
 ],
 "metadata": {
  "kernelspec": {
   "display_name": "Python 3",
   "language": "python",
   "name": "python3"
  },
  "language_info": {
   "codemirror_mode": {
    "name": "ipython",
    "version": 2
   },
   "file_extension": ".py",
   "mimetype": "text/x-python",
   "name": "python",
   "nbconvert_exporter": "python",
   "pygments_lexer": "ipython2",
   "version": "2.7.6"
  }
 },
 "nbformat": 4,
 "nbformat_minor": 0
}