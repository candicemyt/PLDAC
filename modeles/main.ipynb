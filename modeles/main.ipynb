{
 "cells": [
  {
   "cell_type": "code",
   "execution_count": 22,
   "metadata": {
    "collapsed": true
   },
   "outputs": [],
   "source": [
    "import numpy as np\n",
    "import importlib\n",
    "import pandas as pd\n",
    "from sklearn.neighbors import KNeighborsClassifier\n",
    "from sklearn.metrics import accuracy_score, precision_recall_fscore_support\n",
    "from sklearn.tree import DecisionTreeClassifier\n",
    "from sklearn.naive_bayes import ComplementNB\n",
    "\n",
    "import loaddata\n",
    "importlib.reload(loaddata)\n",
    "from loaddata import load_data\n",
    "\n",
    "import data_vis\n",
    "importlib.reload(data_vis)\n",
    "from data_vis import mat2graph, plot_graph\n",
    "\n",
    "import spectral_clustering_tools\n",
    "importlib.reload(spectral_clustering_tools)\n",
    "from spectral_clustering_tools import clustering, df2mat\n",
    "\n",
    "import graph_analysis_tools\n",
    "importlib.reload(graph_analysis_tools)\n",
    "from graph_analysis_tools import group_interactions, add_queen"
   ]
  },
  {
   "cell_type": "markdown",
   "source": [
    "## DATASET 2\n"
   ],
   "metadata": {
    "collapsed": false,
    "pycharm": {
     "name": "#%% md\n"
    }
   }
  },
  {
   "cell_type": "code",
   "execution_count": 2,
   "outputs": [],
   "source": [
    "metadata, data = load_data('dataset2')"
   ],
   "metadata": {
    "collapsed": false,
    "pycharm": {
     "name": "#%%\n"
    }
   }
  },
  {
   "cell_type": "markdown",
   "source": [
    "###    Spectral clustering"
   ],
   "metadata": {
    "collapsed": false
   }
  },
  {
   "cell_type": "code",
   "execution_count": 3,
   "outputs": [
    {
     "name": "stderr",
     "output_type": "stream",
     "text": [
      "C:\\Users\\Candice\\AppData\\Local\\Programs\\Python\\Python310\\lib\\site-packages\\sklearn\\manifold\\_spectral_embedding.py:260: UserWarning: Graph is not fully connected, spectral embedding may not work as expected.\n",
      "  warnings.warn(\n",
      "C:\\Users\\Candice\\AppData\\Local\\Programs\\Python\\Python310\\lib\\site-packages\\sklearn\\manifold\\_spectral_embedding.py:260: UserWarning: Graph is not fully connected, spectral embedding may not work as expected.\n",
      "  warnings.warn(\n",
      "C:\\Users\\Candice\\AppData\\Local\\Programs\\Python\\Python310\\lib\\site-packages\\sklearn\\manifold\\_spectral_embedding.py:260: UserWarning: Graph is not fully connected, spectral embedding may not work as expected.\n",
      "  warnings.warn(\n",
      "C:\\Users\\Candice\\AppData\\Local\\Programs\\Python\\Python310\\lib\\site-packages\\sklearn\\manifold\\_spectral_embedding.py:260: UserWarning: Graph is not fully connected, spectral embedding may not work as expected.\n",
      "  warnings.warn(\n",
      "C:\\Users\\Candice\\AppData\\Local\\Programs\\Python\\Python310\\lib\\site-packages\\sklearn\\manifold\\_spectral_embedding.py:260: UserWarning: Graph is not fully connected, spectral embedding may not work as expected.\n",
      "  warnings.warn(\n",
      "C:\\Users\\Candice\\AppData\\Local\\Programs\\Python\\Python310\\lib\\site-packages\\sklearn\\manifold\\_spectral_embedding.py:260: UserWarning: Graph is not fully connected, spectral embedding may not work as expected.\n",
      "  warnings.warn(\n",
      "C:\\Users\\Candice\\AppData\\Local\\Programs\\Python\\Python310\\lib\\site-packages\\sklearn\\manifold\\_spectral_embedding.py:260: UserWarning: Graph is not fully connected, spectral embedding may not work as expected.\n",
      "  warnings.warn(\n",
      "C:\\Users\\Candice\\AppData\\Local\\Programs\\Python\\Python310\\lib\\site-packages\\sklearn\\manifold\\_spectral_embedding.py:260: UserWarning: Graph is not fully connected, spectral embedding may not work as expected.\n",
      "  warnings.warn(\n",
      "C:\\Users\\Candice\\AppData\\Local\\Programs\\Python\\Python310\\lib\\site-packages\\sklearn\\manifold\\_spectral_embedding.py:260: UserWarning: Graph is not fully connected, spectral embedding may not work as expected.\n",
      "  warnings.warn(\n",
      "C:\\Users\\Candice\\AppData\\Local\\Programs\\Python\\Python310\\lib\\site-packages\\sklearn\\manifold\\_spectral_embedding.py:260: UserWarning: Graph is not fully connected, spectral embedding may not work as expected.\n",
      "  warnings.warn(\n",
      "C:\\Users\\Candice\\AppData\\Local\\Programs\\Python\\Python310\\lib\\site-packages\\sklearn\\manifold\\_spectral_embedding.py:260: UserWarning: Graph is not fully connected, spectral embedding may not work as expected.\n",
      "  warnings.warn(\n",
      "C:\\Users\\Candice\\AppData\\Local\\Programs\\Python\\Python310\\lib\\site-packages\\sklearn\\manifold\\_spectral_embedding.py:260: UserWarning: Graph is not fully connected, spectral embedding may not work as expected.\n",
      "  warnings.warn(\n",
      "C:\\Users\\Candice\\AppData\\Local\\Programs\\Python\\Python310\\lib\\site-packages\\sklearn\\manifold\\_spectral_embedding.py:260: UserWarning: Graph is not fully connected, spectral embedding may not work as expected.\n",
      "  warnings.warn(\n",
      "C:\\Users\\Candice\\AppData\\Local\\Programs\\Python\\Python310\\lib\\site-packages\\sklearn\\manifold\\_spectral_embedding.py:260: UserWarning: Graph is not fully connected, spectral embedding may not work as expected.\n",
      "  warnings.warn(\n",
      "C:\\Users\\Candice\\AppData\\Local\\Programs\\Python\\Python310\\lib\\site-packages\\sklearn\\manifold\\_spectral_embedding.py:260: UserWarning: Graph is not fully connected, spectral embedding may not work as expected.\n",
      "  warnings.warn(\n",
      "C:\\Users\\Candice\\AppData\\Local\\Programs\\Python\\Python310\\lib\\site-packages\\sklearn\\manifold\\_spectral_embedding.py:260: UserWarning: Graph is not fully connected, spectral embedding may not work as expected.\n",
      "  warnings.warn(\n",
      "C:\\Users\\Candice\\AppData\\Local\\Programs\\Python\\Python310\\lib\\site-packages\\sklearn\\manifold\\_spectral_embedding.py:260: UserWarning: Graph is not fully connected, spectral embedding may not work as expected.\n",
      "  warnings.warn(\n",
      "C:\\Users\\Candice\\AppData\\Local\\Programs\\Python\\Python310\\lib\\site-packages\\sklearn\\manifold\\_spectral_embedding.py:260: UserWarning: Graph is not fully connected, spectral embedding may not work as expected.\n",
      "  warnings.warn(\n",
      "C:\\Users\\Candice\\AppData\\Local\\Programs\\Python\\Python310\\lib\\site-packages\\sklearn\\manifold\\_spectral_embedding.py:260: UserWarning: Graph is not fully connected, spectral embedding may not work as expected.\n",
      "  warnings.warn(\n",
      "C:\\Users\\Candice\\AppData\\Local\\Programs\\Python\\Python310\\lib\\site-packages\\sklearn\\manifold\\_spectral_embedding.py:260: UserWarning: Graph is not fully connected, spectral embedding may not work as expected.\n",
      "  warnings.warn(\n",
      "C:\\Users\\Candice\\AppData\\Local\\Programs\\Python\\Python310\\lib\\site-packages\\sklearn\\manifold\\_spectral_embedding.py:260: UserWarning: Graph is not fully connected, spectral embedding may not work as expected.\n",
      "  warnings.warn(\n",
      "C:\\Users\\Candice\\AppData\\Local\\Programs\\Python\\Python310\\lib\\site-packages\\sklearn\\manifold\\_spectral_embedding.py:260: UserWarning: Graph is not fully connected, spectral embedding may not work as expected.\n",
      "  warnings.warn(\n",
      "C:\\Users\\Candice\\AppData\\Local\\Programs\\Python\\Python310\\lib\\site-packages\\sklearn\\manifold\\_spectral_embedding.py:260: UserWarning: Graph is not fully connected, spectral embedding may not work as expected.\n",
      "  warnings.warn(\n",
      "C:\\Users\\Candice\\AppData\\Local\\Programs\\Python\\Python310\\lib\\site-packages\\sklearn\\manifold\\_spectral_embedding.py:260: UserWarning: Graph is not fully connected, spectral embedding may not work as expected.\n",
      "  warnings.warn(\n",
      "C:\\Users\\Candice\\AppData\\Local\\Programs\\Python\\Python310\\lib\\site-packages\\sklearn\\manifold\\_spectral_embedding.py:260: UserWarning: Graph is not fully connected, spectral embedding may not work as expected.\n",
      "  warnings.warn(\n",
      "C:\\Users\\Candice\\AppData\\Local\\Programs\\Python\\Python310\\lib\\site-packages\\sklearn\\manifold\\_spectral_embedding.py:260: UserWarning: Graph is not fully connected, spectral embedding may not work as expected.\n",
      "  warnings.warn(\n",
      "C:\\Users\\Candice\\AppData\\Local\\Programs\\Python\\Python310\\lib\\site-packages\\sklearn\\manifold\\_spectral_embedding.py:260: UserWarning: Graph is not fully connected, spectral embedding may not work as expected.\n",
      "  warnings.warn(\n",
      "C:\\Users\\Candice\\AppData\\Local\\Programs\\Python\\Python310\\lib\\site-packages\\sklearn\\manifold\\_spectral_embedding.py:260: UserWarning: Graph is not fully connected, spectral embedding may not work as expected.\n",
      "  warnings.warn(\n",
      "C:\\Users\\Candice\\AppData\\Local\\Programs\\Python\\Python310\\lib\\site-packages\\sklearn\\manifold\\_spectral_embedding.py:260: UserWarning: Graph is not fully connected, spectral embedding may not work as expected.\n",
      "  warnings.warn(\n",
      "C:\\Users\\Candice\\AppData\\Local\\Programs\\Python\\Python310\\lib\\site-packages\\sklearn\\manifold\\_spectral_embedding.py:260: UserWarning: Graph is not fully connected, spectral embedding may not work as expected.\n",
      "  warnings.warn(\n",
      "C:\\Users\\Candice\\AppData\\Local\\Programs\\Python\\Python310\\lib\\site-packages\\sklearn\\manifold\\_spectral_embedding.py:260: UserWarning: Graph is not fully connected, spectral embedding may not work as expected.\n",
      "  warnings.warn(\n"
     ]
    },
    {
     "name": "stdout",
     "output_type": "stream",
     "text": [
      "0.6891027962870457\n"
     ]
    },
    {
     "name": "stderr",
     "output_type": "stream",
     "text": [
      "C:\\Users\\Candice\\AppData\\Local\\Programs\\Python\\Python310\\lib\\site-packages\\sklearn\\manifold\\_spectral_embedding.py:260: UserWarning: Graph is not fully connected, spectral embedding may not work as expected.\n",
      "  warnings.warn(\n",
      "C:\\Users\\Candice\\AppData\\Local\\Programs\\Python\\Python310\\lib\\site-packages\\sklearn\\manifold\\_spectral_embedding.py:260: UserWarning: Graph is not fully connected, spectral embedding may not work as expected.\n",
      "  warnings.warn(\n"
     ]
    }
   ],
   "source": [
    "matrices, ground_truth, list_ants = df2mat(np.arange(1,6), np.arange(1,41), metadata, data)\n",
    "scores, preds = clustering(matrices, ground_truth, list_ants)\n",
    "print(np.mean(scores))\n"
   ],
   "metadata": {
    "collapsed": false,
    "pycharm": {
     "name": "#%%\n"
    }
   }
  },
  {
   "cell_type": "markdown",
   "source": [
    "  ###  Group interactions analysis"
   ],
   "metadata": {
    "collapsed": false,
    "pycharm": {
     "name": "#%% md\n"
    }
   }
  },
  {
   "cell_type": "code",
   "execution_count": 7,
   "outputs": [],
   "source": [
    "col = 1\n",
    "day = 1"
   ],
   "metadata": {
    "collapsed": false,
    "pycharm": {
     "name": "#%%\n"
    }
   }
  },
  {
   "cell_type": "markdown",
   "source": [
    "####        Avec les labels de metadata (vérité terrain)"
   ],
   "metadata": {
    "collapsed": false,
    "pycharm": {
     "name": "#%% md\n"
    }
   }
  },
  {
   "cell_type": "code",
   "execution_count": 74,
   "outputs": [
    {
     "data": {
      "text/plain": "<Figure size 720x720 with 1 Axes>",
      "image/png": "[encoded data removed]"
     },
     "metadata": {},
     "output_type": "display_data"
    }
   ],
   "source": [
    "mat, y_true, ants = df2mat([col], [day], metadata, data, queen=True)\n",
    "graph = mat2graph(mat[0], 'dataset2_col1_d1', plot=False)\n",
    "graph_gr = group_interactions(graph, y_true[0], ants[0])\n",
    "plot_graph(graph_gr, f'ds2_col{col}_d{day}_bygroups_queen')\n"
   ],
   "metadata": {
    "collapsed": false,
    "pycharm": {
     "name": "#%%\n"
    }
   }
  },
  {
   "cell_type": "markdown",
   "source": [
    "#### Avec les labels prédits"
   ],
   "metadata": {
    "collapsed": false,
    "pycharm": {
     "name": "#%% md\n"
    }
   }
  },
  {
   "cell_type": "code",
   "execution_count": 75,
   "outputs": [
    {
     "data": {
      "text/plain": "<Figure size 720x720 with 1 Axes>",
      "image/png": "[encoded data removed]"
     },
     "metadata": {},
     "output_type": "display_data"
    }
   ],
   "source": [
    "mat, y_true, ants = df2mat([col], [day], metadata, data, queen=False)\n",
    "mat_queen, pred_queen, ants_queen = add_queen(mat[0], preds[0], ants[0], metadata, col, day, data[col-1][day-1])\n",
    "if len(mat_queen) != 0:\n",
    "    graph_pred_queen = mat2graph(mat_queen, f'dataset2_col{col}_d{day}', plot=False)\n",
    "    graph_gr_pred = group_interactions(graph_pred_queen, pred_queen, ants_queen)\n",
    "    plot_graph(graph_gr_pred, f'ds2_col{col}_d{day}_bygroups_preds_queen')"
   ],
   "metadata": {
    "collapsed": false,
    "pycharm": {
     "name": "#%%\n"
    }
   }
  },
  {
   "cell_type": "markdown",
   "source": [
    "## Classification supervisée"
   ],
   "metadata": {
    "collapsed": false,
    "pycharm": {
     "name": "#%% md\n"
    }
   }
  },
  {
   "cell_type": "code",
   "execution_count": 9,
   "outputs": [],
   "source": [
    "period = 1"
   ],
   "metadata": {
    "collapsed": false,
    "pycharm": {
     "name": "#%%\n"
    }
   }
  },
  {
   "cell_type": "markdown",
   "source": [
    "#### Création train set"
   ],
   "metadata": {
    "collapsed": false,
    "pycharm": {
     "name": "#%% md\n"
    }
   }
  },
  {
   "cell_type": "code",
   "execution_count": 10,
   "outputs": [],
   "source": [
    "metadata_wo_col1 = metadata[metadata['colony_act'] != 1] #on entraine sur les colonies 2 à 6\n",
    "\n",
    "df_datax_train = pd.DataFrame().assign(nb_foraging_events=metadata_wo_col1[\"nb_foraging_events\"], visits_to_brood=metadata_wo_col1[\"visits_to_brood\"], visits_to_nest_entrance=metadata_wo_col1['visits_to_nest_entrance'], visits_to_rubbishpile=metadata_wo_col1['visits_to_rubbishpile'], nb_interaction_nurses=metadata_wo_col1['nb_interaction_nurses'], nb_interaction_cleaners=metadata_wo_col1['nb_interaction_cleaners'], nb_interaction_foragers=metadata_wo_col1['nb_interaction_foragers'], nb_interactions_queen=metadata_wo_col1['nb_interaction_queen'])\n",
    "df_datax_train.dropna()\n",
    "\n",
    "df_datay_train = pd.DataFrame().assign(group_period1=metadata_wo_col1[\"group_period1\"], group_period2=metadata_wo_col1[\"group_period2\"], group_period3=metadata_wo_col1[\"group_period3\"], group_period4=metadata_wo_col1[\"group_period4\"])\n",
    "df_datay_train.dropna()\n",
    "\n",
    "datax_train = df_datax_train.to_numpy()\n",
    "\n",
    "datay_train = df_datay_train[f'group_period{period}'].to_numpy()"
   ],
   "metadata": {
    "collapsed": false,
    "pycharm": {
     "name": "#%%\n"
    }
   }
  },
  {
   "cell_type": "markdown",
   "source": [
    "#### Création test set"
   ],
   "metadata": {
    "collapsed": false,
    "pycharm": {
     "name": "#%% md\n"
    }
   }
  },
  {
   "cell_type": "code",
   "execution_count": 11,
   "outputs": [],
   "source": [
    "#creation test set\n",
    "metadata_col1 = metadata[metadata['colony_act'] == 1] #on teste sur la colonie 1\n",
    "\n",
    "df_datax_test = pd.DataFrame().assign(nb_foraging_events=metadata_col1[\"nb_foraging_events\"], visits_to_brood=metadata_col1[\"visits_to_brood\"], visits_to_nest_entrance=metadata_col1['visits_to_nest_entrance'], visits_to_rubbishpile=metadata_col1['visits_to_rubbishpile'], nb_interaction_nurses=metadata_col1['nb_interaction_nurses'], nb_interaction_cleaners=metadata_col1['nb_interaction_cleaners'], nb_interaction_foragers=metadata_col1['nb_interaction_foragers'], nb_interactions_queen=metadata_col1['nb_interaction_queen'])\n",
    "df_datax_test.dropna()\n",
    "\n",
    "df_datay_test = pd.DataFrame().assign(group_period1=metadata_col1[\"group_period1\"], group_period2=metadata_col1[\"group_period2\"], group_period3=metadata_col1[\"group_period3\"], group_period4=metadata_col1[\"group_period4\"])\n",
    "df_datay_test.dropna()\n",
    "\n",
    "datax_test = df_datax_test.to_numpy()\n",
    "\n",
    "datay_test = df_datay_test[f'group_period{period}'].to_numpy()"
   ],
   "metadata": {
    "collapsed": false,
    "pycharm": {
     "name": "#%%\n"
    }
   }
  },
  {
   "cell_type": "markdown",
   "source": [
    "#### K-nearest neighbors"
   ],
   "metadata": {
    "collapsed": false,
    "pycharm": {
     "name": "#%% md\n"
    }
   }
  },
  {
   "cell_type": "code",
   "execution_count": 17,
   "outputs": [
    {
     "name": "stderr",
     "output_type": "stream",
     "text": [
      "C:\\Users\\Candice\\AppData\\Local\\Programs\\Python\\Python310\\lib\\site-packages\\sklearn\\metrics\\_classification.py:1318: UndefinedMetricWarning: Precision and F-score are ill-defined and being set to 0.0 in labels with no predicted samples. Use `zero_division` parameter to control this behavior.\n",
      "  _warn_prf(average, modifier, msg_start, len(result))\n"
     ]
    }
   ],
   "source": [
    "knn_clf = KNeighborsClassifier()\n",
    "knn_clf.fit(datax_train, datay_train)\n",
    "yhat_knn = knn_clf.predict(datax_test)\n",
    "score_knn = accuracy_score(datay_test, yhat_knn)\n",
    "score_details_knn = precision_recall_fscore_support(datay_test, yhat_knn)"
   ],
   "metadata": {
    "collapsed": false,
    "pycharm": {
     "name": "#%%\n"
    }
   }
  },
  {
   "cell_type": "code",
   "execution_count": 18,
   "outputs": [
    {
     "name": "stdout",
     "output_type": "stream",
     "text": [
      "0.8272727272727273\n",
      "(array([0.70967742, 0.85483871, 0.94117647, 0.        ]), array([0.70967742, 1.        , 0.64      , 0.        ]), array([0.70967742, 0.92173913, 0.76190476, 0.        ]), array([31, 53, 25,  1], dtype=int64))\n"
     ]
    }
   ],
   "source": [
    "print(score_knn)\n",
    "print(score_details_knn)"
   ],
   "metadata": {
    "collapsed": false,
    "pycharm": {
     "name": "#%%\n"
    }
   }
  },
  {
   "cell_type": "markdown",
   "source": [
    "#### Decision Tree"
   ],
   "metadata": {
    "collapsed": false
   }
  },
  {
   "cell_type": "code",
   "execution_count": 19,
   "outputs": [],
   "source": [
    "dc_clf = DecisionTreeClassifier()\n",
    "dc_clf.fit(datax_train, datay_train)\n",
    "yhat_dc = dc_clf.predict(datax_test)\n",
    "score_dc = accuracy_score(datay_test, yhat_dc)\n",
    "scores_details_dc = precision_recall_fscore_support(datay_test, yhat_dc)"
   ],
   "metadata": {
    "collapsed": false,
    "pycharm": {
     "name": "#%%\n"
    }
   }
  },
  {
   "cell_type": "code",
   "execution_count": 20,
   "outputs": [
    {
     "name": "stdout",
     "output_type": "stream",
     "text": [
      "0.6454545454545455\n",
      "(array([0.41666667, 0.76315789, 0.91304348, 1.        ]), array([0.64516129, 0.54716981, 0.84      , 1.        ]), array([0.50632911, 0.63736264, 0.875     , 1.        ]), array([31, 53, 25,  1], dtype=int64))\n"
     ]
    }
   ],
   "source": [
    "print(score_dc)\n",
    "print(scores_details_dc)"
   ],
   "metadata": {
    "collapsed": false,
    "pycharm": {
     "name": "#%%\n"
    }
   }
  },
  {
   "cell_type": "markdown",
   "source": [
    "#### Naive Bayes"
   ],
   "metadata": {
    "collapsed": false
   }
  },
  {
   "cell_type": "code",
   "execution_count": 23,
   "outputs": [
    {
     "name": "stderr",
     "output_type": "stream",
     "text": [
      "C:\\Users\\Candice\\AppData\\Local\\Programs\\Python\\Python310\\lib\\site-packages\\sklearn\\metrics\\_classification.py:1318: UndefinedMetricWarning: Precision and F-score are ill-defined and being set to 0.0 in labels with no predicted samples. Use `zero_division` parameter to control this behavior.\n",
      "  _warn_prf(average, modifier, msg_start, len(result))\n"
     ]
    }
   ],
   "source": [
    "nb_clf = ComplementNB()\n",
    "nb_clf.fit(datax_train, datay_train)\n",
    "yhat_nb = nb_clf.predict(datax_test)\n",
    "score_nb = accuracy_score(datay_test, yhat_nb)\n",
    "scores_details_nb = precision_recall_fscore_support(datay_test, yhat_nb)"
   ],
   "metadata": {
    "collapsed": false,
    "pycharm": {
     "name": "#%%\n"
    }
   }
  },
  {
   "cell_type": "code",
   "execution_count": 24,
   "outputs": [
    {
     "name": "stdout",
     "output_type": "stream",
     "text": [
      "0.7363636363636363\n",
      "(array([1.        , 0.76811594, 0.65789474, 0.        ]), array([0.09677419, 1.        , 1.        , 0.        ]), array([0.17647059, 0.86885246, 0.79365079, 0.        ]), array([31, 53, 25,  1], dtype=int64))\n"
     ]
    }
   ],
   "source": [
    "print(score_nb)\n",
    "print(scores_details_nb)"
   ],
   "metadata": {
    "collapsed": false,
    "pycharm": {
     "name": "#%%\n"
    }
   }
  },
  {
   "cell_type": "markdown",
   "source": [
    "## TODO :\n",
    "   ~~- fonction taux de similarité entre deux groupes pour évaluer le modèle~~\n",
    "   ~~- interaction entre groupes (agréger les graphes -> 3 ou 4 noeuds (reine ou pas))~~\n",
    "    - chaîne de markov avec changements de rôles (prédire le comportement d'une fourmi)\n",
    "    - faire ressortir des indices pour évaluer l'intéraction (pourcentage du nb d'interactions avec chaque groupe, nb moyen d'interactions par fourmi d'un groupe, variance associée, et ??)\n",
    " ~~-  classification supervisée (avec attributs de metadata)~~\n",
    "    - additionner toutes les matrices de comptage du nombre d'intéractions d'une période\n",
    "    - regarder les modèles de l'article\n",
    "    - clusteriser avec une marche aléatoire dans les graphes\n",
    "    - regarder si on peut jouer avec les poids des classes dans le spectral clustering\n"
   ],
   "metadata": {
    "collapsed": false,
    "pycharm": {
     "name": "#%% md\n"
    }
   }
  },
  {
   "cell_type": "code",
   "execution_count": null,
   "outputs": [],
   "source": [],
   "metadata": {
    "collapsed": false,
    "pycharm": {
     "name": "#%%\n"
    }
   }
  }
 ],
 "metadata": {
  "kernelspec": {
   "display_name": "Python 3",
   "language": "python",
   "name": "python3"
  },
  "language_info": {
   "codemirror_mode": {
    "name": "ipython",
    "version": 2
   },
   "file_extension": ".py",
   "mimetype": "text/x-python",
   "name": "python",
   "nbconvert_exporter": "python",
   "pygments_lexer": "ipython2",
   "version": "2.7.6"
  }
 },
 "nbformat": 4,
 "nbformat_minor": 0
}